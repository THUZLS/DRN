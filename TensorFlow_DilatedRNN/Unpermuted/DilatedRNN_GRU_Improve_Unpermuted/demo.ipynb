{
 "cells": [
  {
   "cell_type": "markdown",
   "metadata": {},
   "source": [
    "# Unpermuted Pixel MNIST Demo \n",
    "Light weighted demo of our DilatedRNN on Pixel MNist with permutation."
   ]
  },
  {
   "cell_type": "code",
   "execution_count": 1,
   "metadata": {},
   "outputs": [],
   "source": [
    "import sys\n",
    "sys.path.append(\"./models\")\n",
    "import numpy as np\n",
    "import tensorflow as tf\n",
    "from tensorflow.examples.tutorials.mnist import input_data\n",
    "from classification_models import drnn_classification"
   ]
  },
  {
   "cell_type": "code",
   "execution_count": 2,
   "metadata": {},
   "outputs": [],
   "source": [
    "# configurations\n",
    "data_dir = \"./MNIST_data\"\n",
    "n_steps = 28*28\n",
    "input_dims = 1\n",
    "n_classes = 10 \n",
    "\n",
    "# model config\n",
    "cell_type = \"GRU\"\n",
    "assert(cell_type in [\"RNN\", \"LSTM\", \"GRU\"])\n",
    "hidden_structs = [20, 30, 40, 50]\n",
    "dilations = [4, 8, 16, 32]\n",
    "assert(len(hidden_structs) == len(dilations))\n",
    "\n",
    "# learning config\n",
    "batch_size = 128\n",
    "learning_rate = 1.0e-3\n",
    "training_iters = batch_size * 30000\n",
    "testing_step = 5000\n",
    "display_step = 100\n"
   ]
  },
  {
   "cell_type": "code",
   "execution_count": 3,
   "metadata": {},
   "outputs": [
    {
     "name": "stdout",
     "output_type": "stream",
     "text": [
      "Extracting ./MNIST_data/train-images-idx3-ubyte.gz\n",
      "Extracting ./MNIST_data/train-labels-idx1-ubyte.gz\n",
      "Extracting ./MNIST_data/t10k-images-idx3-ubyte.gz\n",
      "Extracting ./MNIST_data/t10k-labels-idx1-ubyte.gz\n"
     ]
    }
   ],
   "source": [
    "mnist = input_data.read_data_sets(data_dir, one_hot=True)"
   ]
  },
  {
   "cell_type": "code",
   "execution_count": 4,
   "metadata": {},
   "outputs": [
    {
     "name": "stdout",
     "output_type": "stream",
     "text": [
      "==> Building a dRNN with GRU cells\n",
      "Building layer: multi_dRNN_dilation_4, input length: 784, dilation rate: 4, input dim: 1.\n",
      "=====> Input length for sub-RNN: 196\n",
      "Building layer: multi_dRNN_dilation_8, input length: 784, dilation rate: 8, input dim: 20.\n",
      "=====> Input length for sub-RNN: 98\n",
      "Building layer: multi_dRNN_dilation_16, input length: 784, dilation rate: 16, input dim: 30.\n",
      "=====> Input length for sub-RNN: 49\n",
      "Building layer: multi_dRNN_dilation_32, input length: 784, dilation rate: 32, input dim: 40.\n",
      "=====> 16 time points need to be padded. \n",
      "=====> Input length for sub-RNN: 25\n"
     ]
    }
   ],
   "source": [
    "# build computation graph\n",
    "tf.reset_default_graph()\n",
    "x = tf.placeholder(tf.float32, [None, n_steps, input_dims])\n",
    "y = tf.placeholder(tf.float32, [None, n_classes])    \n",
    "global_step = tf.Variable(0, name='global_step', trainable=False)\n",
    "\n",
    "# build prediction graph\n",
    "print (\"==> Building a dRNN with %s cells\" %cell_type)\n",
    "pred = drnn_classification(x, hidden_structs, dilations, n_steps, n_classes, input_dims, cell_type)\n",
    "\n",
    "# build loss and optimizer\n",
    "cost = tf.reduce_mean(tf.nn.softmax_cross_entropy_with_logits_v2(logits=pred, labels=y))\n",
    "optimizer = tf.train.AdamOptimizer(learning_rate).minimize(cost)\n",
    "\n",
    "# evaluation model\n",
    "correct_pred = tf.equal(tf.argmax(pred,1), tf.argmax(y,1))\n",
    "accuracy = tf.reduce_mean(tf.cast(correct_pred, tf.float32))"
   ]
  },
  {
   "cell_type": "code",
   "execution_count": 5,
   "metadata": {},
   "outputs": [],
   "source": [
    "sess = tf.Session()\n",
    "init = tf.global_variables_initializer()\n",
    "sess.run(init)"
   ]
  },
  {
   "cell_type": "code",
   "execution_count": null,
   "metadata": {},
   "outputs": [
    {
     "name": "stdout",
     "output_type": "stream",
     "text": [
      "Iter 100, Minibatch Loss: 0.983808, Training Accuracy: 0.679688\n",
      "Iter 200, Minibatch Loss: 0.878726, Training Accuracy: 0.734375\n",
      "Iter 300, Minibatch Loss: 0.889656, Training Accuracy: 0.726562\n",
      "Iter 400, Minibatch Loss: 0.789203, Training Accuracy: 0.703125\n",
      "Iter 500, Minibatch Loss: 0.434004, Training Accuracy: 0.835938\n",
      "Iter 600, Minibatch Loss: 0.558723, Training Accuracy: 0.828125\n",
      "Iter 700, Minibatch Loss: 0.628453, Training Accuracy: 0.781250\n",
      "Iter 800, Minibatch Loss: 0.706590, Training Accuracy: 0.789062\n",
      "Iter 900, Minibatch Loss: 0.528143, Training Accuracy: 0.796875\n",
      "Iter 1000, Minibatch Loss: 0.604535, Training Accuracy: 0.828125\n",
      "Iter 1100, Minibatch Loss: 0.399932, Training Accuracy: 0.875000\n",
      "Iter 1200, Minibatch Loss: 0.360795, Training Accuracy: 0.867188\n",
      "Iter 1300, Minibatch Loss: 0.581327, Training Accuracy: 0.812500\n",
      "Iter 1400, Minibatch Loss: 0.341914, Training Accuracy: 0.851562\n",
      "Iter 1500, Minibatch Loss: 0.485015, Training Accuracy: 0.828125\n",
      "Iter 1600, Minibatch Loss: 0.312151, Training Accuracy: 0.890625\n",
      "Iter 1700, Minibatch Loss: 0.398897, Training Accuracy: 0.843750\n",
      "Iter 1800, Minibatch Loss: 0.428042, Training Accuracy: 0.828125\n",
      "Iter 1900, Minibatch Loss: 0.380672, Training Accuracy: 0.859375\n",
      "Iter 2000, Minibatch Loss: 0.400835, Training Accuracy: 0.796875\n",
      "Iter 2100, Minibatch Loss: 0.270711, Training Accuracy: 0.898438\n",
      "Iter 2200, Minibatch Loss: 0.492398, Training Accuracy: 0.828125\n",
      "Iter 2300, Minibatch Loss: 0.348940, Training Accuracy: 0.882812\n",
      "Iter 2400, Minibatch Loss: 0.185504, Training Accuracy: 0.937500\n",
      "Iter 2500, Minibatch Loss: 0.328035, Training Accuracy: 0.890625\n",
      "Iter 2600, Minibatch Loss: 0.209051, Training Accuracy: 0.929688\n",
      "Iter 2700, Minibatch Loss: 0.323024, Training Accuracy: 0.867188\n",
      "Iter 2800, Minibatch Loss: 0.247051, Training Accuracy: 0.898438\n",
      "Iter 2900, Minibatch Loss: 0.358349, Training Accuracy: 0.867188\n",
      "Iter 3000, Minibatch Loss: 0.236476, Training Accuracy: 0.921875\n",
      "Iter 3100, Minibatch Loss: 0.313398, Training Accuracy: 0.882812\n",
      "Iter 3200, Minibatch Loss: 0.274817, Training Accuracy: 0.921875\n",
      "Iter 3300, Minibatch Loss: 0.236123, Training Accuracy: 0.914062\n",
      "Iter 3400, Minibatch Loss: 0.193737, Training Accuracy: 0.937500\n",
      "Iter 3500, Minibatch Loss: 0.303125, Training Accuracy: 0.929688\n"
     ]
    }
   ],
   "source": [
    "step = 0\n",
    "train_results = []\n",
    "validation_results = []\n",
    "test_results = []\n",
    "\n",
    "while step * batch_size < training_iters:\n",
    "    batch_x, batch_y = mnist.train.next_batch(batch_size)    \n",
    "    batch_x = batch_x.reshape([batch_size, n_steps, input_dims])\n",
    "\n",
    "    feed_dict = {\n",
    "        x : batch_x,\n",
    "        y : batch_y\n",
    "    }\n",
    "    cost_, accuracy_, step_,  _ = sess.run([cost, accuracy, global_step, optimizer], feed_dict=feed_dict)    \n",
    "    train_results.append((step_, cost_, accuracy_))    \n",
    "\n",
    "    if (step + 1) % display_step == 0:\n",
    "        print (\"Iter \" + str(step + 1) + \", Minibatch Loss: \" + \"{:.6f}\".format(cost_) \\\n",
    "        + \", Training Accuracy: \" + \"{:.6f}\".format(accuracy_))\n",
    "             \n",
    "    if (step + 1) % testing_step == 0:\n",
    "        \n",
    "        # validation performance\n",
    "        batch_x = mnist.validation.images\n",
    "        batch_y = mnist.validation.labels\n",
    "\n",
    "        # unpermute the data      \n",
    "        batch_x = batch_x.reshape([-1, n_steps, input_dims])\n",
    "        feed_dict = {\n",
    "            x : batch_x,\n",
    "            y : batch_y\n",
    "        }\n",
    "        cost_, accuracy__, step_ = sess.run([cost, accuracy, global_step], feed_dict=feed_dict)\n",
    "        validation_results.append((step_, cost_, accuracy__))\n",
    "        \n",
    "        # test performance\n",
    "        batch_x = mnist.test.images\n",
    "        batch_y = mnist.test.labels     \n",
    "        batch_x = batch_x.reshape([-1, n_steps, input_dims])\n",
    "        feed_dict = {\n",
    "            x : batch_x,\n",
    "            y : batch_y\n",
    "        }\n",
    "        cost_, accuracy_, step_ = sess.run([cost, accuracy, global_step], feed_dict=feed_dict)\n",
    "        test_results.append((step_, cost_, accuracy_))        \n",
    "        print (\"========> Validation Accuarcy: \" + \"{:.6f}\".format(accuracy__) \\\n",
    "        + \", Testing Accuarcy: \" + \"{:.6f}\".format(accuracy_)) \n",
    "    step += 1"
   ]
  },
  {
   "cell_type": "code",
   "execution_count": null,
   "metadata": {},
   "outputs": [],
   "source": []
  }
 ],
 "metadata": {
  "celltoolbar": "Raw Cell Format",
  "kernelspec": {
   "display_name": "Python 3",
   "language": "python",
   "name": "python3"
  },
  "language_info": {
   "codemirror_mode": {
    "name": "ipython",
    "version": 3
   },
   "file_extension": ".py",
   "mimetype": "text/x-python",
   "name": "python",
   "nbconvert_exporter": "python",
   "pygments_lexer": "ipython3",
   "version": "3.6.4"
  }
 },
 "nbformat": 4,
 "nbformat_minor": 2
}
