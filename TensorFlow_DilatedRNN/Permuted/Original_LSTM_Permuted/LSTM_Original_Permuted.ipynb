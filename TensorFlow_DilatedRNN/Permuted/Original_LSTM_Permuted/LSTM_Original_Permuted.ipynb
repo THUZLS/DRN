{
 "cells": [
  {
   "cell_type": "markdown",
   "metadata": {},
   "source": [
    "# Permuted Pixel MNIST Demo"
   ]
  },
  {
   "cell_type": "code",
   "execution_count": 1,
   "metadata": {},
   "outputs": [],
   "source": [
    "import numpy as np\n",
    "import tensorflow as tf\n",
    "from tensorflow.contrib import rnn\n",
    "from tensorflow.examples.tutorials.mnist import input_data"
   ]
  },
  {
   "cell_type": "code",
   "execution_count": 2,
   "metadata": {},
   "outputs": [
    {
     "name": "stdout",
     "output_type": "stream",
     "text": [
      "Extracting ./MNIST_data/train-images-idx3-ubyte.gz\n",
      "Extracting ./MNIST_data/train-labels-idx1-ubyte.gz\n",
      "Extracting ./MNIST_data/t10k-images-idx3-ubyte.gz\n",
      "Extracting ./MNIST_data/t10k-labels-idx1-ubyte.gz\n"
     ]
    }
   ],
   "source": [
    "data_dir = \"./MNIST_data\"\n",
    "mnist = input_data.read_data_sets(data_dir, one_hot=True)"
   ]
  },
  {
   "cell_type": "code",
   "execution_count": 3,
   "metadata": {},
   "outputs": [],
   "source": [
    "# configurations\n",
    "learning_rate = 0.001\n",
    "batch_size =256\n",
    "training_iters = 30000*batch_size\n",
    "display_step = 100\n",
    "testing_step = 1000\n",
    "n_input = 1\n",
    "n_steps = 28*28 #timestep\n",
    "n_hidden = 128#hidden layers\n",
    "n_classes =10"
   ]
  },
  {
   "cell_type": "code",
   "execution_count": 4,
   "metadata": {},
   "outputs": [
    {
     "data": {
      "text/plain": [
       "(55000, 10)"
      ]
     },
     "execution_count": 4,
     "metadata": {},
     "output_type": "execute_result"
    }
   ],
   "source": [
    "# permutation seed \n",
    "seed = 92916\n",
    "if 'seed' in globals():\n",
    "    rng_permute = np.random.RandomState(seed)\n",
    "    idx_permute = rng_permute.permutation(n_steps)\n",
    "else:\n",
    "    idx_permute = np.random.permutation(n_steps)\n",
    "# shape\n",
    "mnist.train.images.shape\n",
    "mnist.train.labels.shape"
   ]
  },
  {
   "cell_type": "code",
   "execution_count": 5,
   "metadata": {},
   "outputs": [],
   "source": [
    "x=tf.placeholder (tf.float32,[None,n_steps,n_input],name='X')\n",
    "y=tf.placeholder (tf.float32,[None,n_classes],name='Y')\n",
    "weights ={'out':tf.Variable(tf.random_normal([n_hidden,n_classes]),name='Weight')}\n",
    "biases ={'out':tf.Variable(tf.random_normal([n_classes]),name='bias')}"
   ]
  },
  {
   "cell_type": "code",
   "execution_count": 6,
   "metadata": {},
   "outputs": [],
   "source": [
    "# define RNN\n",
    "def RNN(x,weights,bias):\n",
    "    x=tf.unstack(x,n_steps,1)\n",
    "    lstm_cell=rnn.BasicLSTMCell(n_hidden,forget_bias=0.8)\n",
    "    lstm_cell=rnn.DropoutWrapper(lstm_cell)\n",
    "    outputs, states =rnn.static_rnn(lstm_cell,x,dtype=tf.float32)\n",
    "    return tf.matmul(outputs[-1],weights['out']+biases['out'])"
   ]
  },
  {
   "cell_type": "code",
   "execution_count": 7,
   "metadata": {},
   "outputs": [],
   "source": [
    "pred = RNN(x,weights,biases)\n",
    "cost = tf.reduce_mean(tf.nn.softmax_cross_entropy_with_logits_v2(logits=pred,labels=y),name=None)\n",
    "optimizer = tf.train.AdamOptimizer(learning_rate=learning_rate).minimize(cost)\n",
    "correct_pred = tf.equal(tf.argmax(pred,1),tf.argmax(y,1))\n",
    "accuracy = tf.reduce_mean(tf.cast(correct_pred,tf.float32))\n",
    "init = tf.global_variables_initializer()"
   ]
  },
  {
   "cell_type": "code",
   "execution_count": null,
   "metadata": {
    "scrolled": true
   },
   "outputs": [
    {
     "name": "stdout",
     "output_type": "stream",
     "text": [
      "Iter:100, Minibatch Loss=1.879636, Trainging Accurary=0.40625\n",
      "Iter:200, Minibatch Loss=1.566477, Trainging Accurary=0.46484\n",
      "Iter:300, Minibatch Loss=1.440592, Trainging Accurary=0.49219\n",
      "Iter:400, Minibatch Loss=1.423920, Trainging Accurary=0.50781\n",
      "Iter:500, Minibatch Loss=1.207187, Trainging Accurary=0.55469\n",
      "Iter:600, Minibatch Loss=1.074005, Trainging Accurary=0.66797\n",
      "Iter:700, Minibatch Loss=0.953170, Trainging Accurary=0.69531\n",
      "Iter:800, Minibatch Loss=1.024905, Trainging Accurary=0.69531\n",
      "Iter:900, Minibatch Loss=0.899064, Trainging Accurary=0.69531\n",
      "Iter:1000, Minibatch Loss=0.796993, Trainging Accurary=0.73438\n",
      "========> Validation Accuarcy: 0.738281, Testing Accuarcy: 0.730469\n",
      "\n",
      "\n",
      "Iter:1100, Minibatch Loss=0.737772, Trainging Accurary=0.74219\n",
      "Iter:1200, Minibatch Loss=0.742339, Trainging Accurary=0.75781\n",
      "Iter:1300, Minibatch Loss=0.704195, Trainging Accurary=0.76953\n",
      "Iter:1400, Minibatch Loss=0.797363, Trainging Accurary=0.71094\n",
      "Iter:1500, Minibatch Loss=0.735959, Trainging Accurary=0.77734\n",
      "Iter:1600, Minibatch Loss=0.583709, Trainging Accurary=0.78516\n",
      "Iter:1700, Minibatch Loss=0.741821, Trainging Accurary=0.76562\n"
     ]
    }
   ],
   "source": [
    "with tf.Session() as sess:\n",
    "    sess.run(init)\n",
    "    writer = tf.summary.FileWriter('./Summary',sess.graph)\n",
    "    step = 1\n",
    "    while step*batch_size < training_iters:\n",
    "        batch_x,batch_y =mnist.train.next_batch(batch_size)\n",
    "        batch_x = batch_x[:, idx_permute]\n",
    "        batch_x = batch_x.reshape(batch_size,n_steps,n_input)\n",
    "        sess.run(optimizer,feed_dict={x:batch_x,y:batch_y})\n",
    "        if step % display_step ==0:\n",
    "            acc = sess.run(accuracy,feed_dict={x:batch_x,y:batch_y})\n",
    "            loss = sess.run(cost,feed_dict={x:batch_x,y:batch_y})\n",
    "            print('Iter:'+str(step)+', Minibatch Loss='+\\\n",
    "             '{:.6f}'.format(loss)+', Trainging Accurary='+\\\n",
    "             '{:.5f}'.format(acc))\n",
    "        if step % testing_step == 0:\n",
    "        \n",
    "            # validation performance\n",
    "            batch_x,batch_y =mnist.validation.next_batch(batch_size)\n",
    "            batch_x = batch_x[:, idx_permute]\n",
    "            batch_x = batch_x.reshape(batch_size,n_steps,n_input)\n",
    "            acc__ = sess.run(accuracy,feed_dict={x:batch_x,y:batch_y})\n",
    "            \n",
    "            # test performance\n",
    "            batch_x,batch_y =mnist.test.next_batch(batch_size)\n",
    "            batch_x = batch_x[:, idx_permute]\n",
    "            batch_x = batch_x.reshape(batch_size,n_steps,n_input)\n",
    "            acc_ = sess.run(accuracy,feed_dict={x:batch_x,y:batch_y})\n",
    "            \n",
    "            print (\"========> Validation Accuarcy: \" + \"{:.6f}\".format(acc__) \\\n",
    "            + \", Testing Accuarcy: \" + \"{:.6f}\".format(acc_)) \n",
    "            print(\"\\n\")\n",
    "        \n",
    "        step+=1\n",
    "    print('Optimization Finished!')\n",
    "    writer.close()\n",
    "    test_len =128\n",
    "    test_data = mnist.test.images[:test_len].reshape((-1,n_steps,n_input))\n",
    "    test_label = mnist.test.labels[:test_len]\n",
    "    print('========> Final Test Accuracy:', \\\n",
    "          sess.run(accuracy,feed_dict={x:test_data,y:test_label}))"
   ]
  },
  {
   "cell_type": "code",
   "execution_count": null,
   "metadata": {},
   "outputs": [],
   "source": []
  }
 ],
 "metadata": {
  "kernelspec": {
   "display_name": "Python 3",
   "language": "python",
   "name": "python3"
  },
  "language_info": {
   "codemirror_mode": {
    "name": "ipython",
    "version": 3
   },
   "file_extension": ".py",
   "mimetype": "text/x-python",
   "name": "python",
   "nbconvert_exporter": "python",
   "pygments_lexer": "ipython3",
   "version": "3.6.4"
  }
 },
 "nbformat": 4,
 "nbformat_minor": 2
}
